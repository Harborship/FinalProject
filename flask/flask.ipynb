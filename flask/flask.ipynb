{
 "cells": [
  {
   "cell_type": "code",
   "execution_count": 1,
   "metadata": {},
   "outputs": [],
   "source": [
    "from flask import Flask, render_template, request, url_for\n",
    "from tensorflow.keras.models import load_model\n",
    "import pickle\n",
    "import matplotlib.pyplot as plt\n",
    "import pandas as pd\n",
    "import numpy as np\n",
    "import os\n",
    "\n",
    "# from requests_toolbelt.multipart import decoder\n"
   ]
  },
  {
   "cell_type": "code",
   "execution_count": 2,
   "metadata": {},
   "outputs": [
    {
     "name": "stdout",
     "output_type": "stream",
     "text": [
      " * Serving Flask app '__main__' (lazy loading)\n",
      " * Environment: production\n",
      "\u001b[31m   WARNING: This is a development server. Do not use it in a production deployment.\u001b[0m\n",
      "\u001b[2m   Use a production WSGI server instead.\u001b[0m\n",
      " * Debug mode: off\n"
     ]
    },
    {
     "name": "stderr",
     "output_type": "stream",
     "text": [
      " * Running on http://127.0.0.1:5000 (Press CTRL+C to quit)\n",
      "127.0.0.1 - - [07/Jul/2022 16:45:14] \"GET / HTTP/1.1\" 200 -\n",
      "127.0.0.1 - - [07/Jul/2022 16:45:15] \"GET /second HTTP/1.1\" 200 -\n"
     ]
    }
   ],
   "source": [
    "app = Flask(__name__)\n",
    "\n",
    "filename = \"\"\n",
    "\n",
    "# 웹 페이지 접속시 메인 화면\n",
    "@app.route('/',  methods=['GET'])\n",
    "def main_loading():\n",
    "    return render_template(\"index.html\")\n",
    "\n",
    "@app.route(\"/second\", methods=[\"GET\"])\n",
    "def second_page():\n",
    "    words = \"바보바보\"\n",
    "    return render_template(\"second.html\", words = words)\n",
    "\n",
    "@app.route('/selectNum',  methods=['GET'])\n",
    "def select_number():\n",
    "    covid1 = \"img/coronavirus1.png\"\n",
    "    covid2 = \"img/coronavirus2.png\"\n",
    "    covid3 = \"img/coronavirus3.png\"\n",
    "\n",
    "    return render_template(\"select_number.html\", coivd1=covid1, coivd2=covid2, coivd3=covid3 )\n",
    "\n",
    "\n",
    "@app.route('/spinning1',  methods=['POST'])\n",
    "def spinning1():\n",
    "    age = request.form[\"age\"]\n",
    "    gender = request.form[\"gender\"]\n",
    "    healthy = request.form.getlist(\"healty\")\n",
    "    cnt = request.form[\"cnt\"]\n",
    "    return render_template(\"spinning1.html\", age=age, gender=gender, healthy=healthy, cnt=cnt)\n",
    "\n",
    "@app.route('/spinning2',  methods=['POST'])\n",
    "def spinning2():\n",
    "    test_number = request.form[\"test_number\"]\n",
    "    return render_template(\"spinning2.html\", test_number = test_number)\n",
    "  \n",
    "if __name__ == \"__main__\":\n",
    "    app.run()  "
   ]
  },
  {
   "cell_type": "code",
   "execution_count": null,
   "metadata": {},
   "outputs": [],
   "source": []
  }
 ],
 "metadata": {
  "kernelspec": {
   "display_name": "Python 3.9.7 ('kdig')",
   "language": "python",
   "name": "python3"
  },
  "language_info": {
   "codemirror_mode": {
    "name": "ipython",
    "version": 3
   },
   "file_extension": ".py",
   "mimetype": "text/x-python",
   "name": "python",
   "nbconvert_exporter": "python",
   "pygments_lexer": "ipython3",
   "version": "3.9.7"
  },
  "orig_nbformat": 4,
  "vscode": {
   "interpreter": {
    "hash": "b10743a6073efad4b61ac31858ae9e785f41726804932c77b020dd3e787ed9f2"
   }
  }
 },
 "nbformat": 4,
 "nbformat_minor": 2
}
